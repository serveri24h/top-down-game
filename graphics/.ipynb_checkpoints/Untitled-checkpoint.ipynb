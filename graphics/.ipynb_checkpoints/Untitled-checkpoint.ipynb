{
 "cells": [
  {
   "cell_type": "code",
   "execution_count": 2,
   "id": "17323b80",
   "metadata": {},
   "outputs": [],
   "source": [
    "BLOCK_SIZE = 8\n",
    "N_ROWS = 2\n",
    "N_COLS = 2"
   ]
  },
  {
   "cell_type": "code",
   "execution_count": 8,
   "id": "ded3ad36",
   "metadata": {},
   "outputs": [
    {
     "name": "stdout",
     "output_type": "stream",
     "text": [
      "0 0\n",
      "0 1\n",
      "0 2\n",
      "0 3\n",
      "0 4\n",
      "0 5\n",
      "0 6\n",
      "0 7\n",
      "1 0\n",
      "1 7\n",
      "2 0\n",
      "2 7\n",
      "3 0\n",
      "3 7\n",
      "4 0\n",
      "4 7\n",
      "5 0\n",
      "5 7\n",
      "6 0\n",
      "6 7\n",
      "7 0\n",
      "7 1\n",
      "7 2\n",
      "7 3\n",
      "7 4\n",
      "7 5\n",
      "7 6\n",
      "7 7\n",
      "[1, 1, 1, 1, 1, 1, 1, 1]\n",
      "[1, 0, 0, 0, 0, 0, 0, 1]\n",
      "[1, 0, 0, 0, 0, 0, 0, 1]\n",
      "[1, 0, 0, 0, 0, 0, 0, 1]\n",
      "[1, 0, 0, 0, 0, 0, 0, 1]\n",
      "[1, 0, 0, 0, 0, 0, 0, 1]\n",
      "[1, 0, 0, 0, 0, 0, 0, 1]\n",
      "[1, 1, 1, 1, 1, 1, 1, 1]\n"
     ]
    }
   ],
   "source": [
    "block = []\n",
    "for i in range(BLOCK_SIZE*N_ROWS):\n",
    "    block_row = []\n",
    "    for j in range(BLOCK_SIZE*N_COLS):\n",
    "        if i%BLOCK_SIZE == 0 or i%BLOCK_SIZE == BLOCK_SIZE-1 or j%BLOCK_SIZE == 0 or j%BLOCK_SIZE == BLOCK_SIZE-1:\n",
    "            print(i,j)\n",
    "            block_row.append(1)\n",
    "        else:\n",
    "            block_row.append(0)\n",
    "    block.append(block_row)\n",
    "for x in block:\n",
    "    print(x)"
   ]
  },
  {
   "cell_type": "code",
   "execution_count": null,
   "id": "0b413a3a",
   "metadata": {},
   "outputs": [],
   "source": []
  }
 ],
 "metadata": {
  "kernelspec": {
   "display_name": "Python 3 (ipykernel)",
   "language": "python",
   "name": "python3"
  },
  "language_info": {
   "codemirror_mode": {
    "name": "ipython",
    "version": 3
   },
   "file_extension": ".py",
   "mimetype": "text/x-python",
   "name": "python",
   "nbconvert_exporter": "python",
   "pygments_lexer": "ipython3",
   "version": "3.9.7"
  }
 },
 "nbformat": 4,
 "nbformat_minor": 5
}
